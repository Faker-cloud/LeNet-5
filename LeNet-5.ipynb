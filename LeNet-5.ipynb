{
 "cells": [
  {
   "cell_type": "code",
   "execution_count": null,
   "metadata": {},
   "outputs": [],
   "source": [
    "import tensorflow as tf\n",
    "import numpy as np\n",
    "import cv2\n",
    "\n",
    "#下载数据集\n",
    "(x_train_org,y_train_org),(x_test_org,y_test_org) = tf.keras.datasets.mnist.load_data()\n",
    "\n",
    "#对数据先改变一下维度方便后面的输入\n",
    "x_train = x_train_org.reshape(60000,28,28,1)\n",
    "x_test = x_test_org.reshape(10000,28,28,1)\n",
    "\n",
    "#归一化数据\n",
    "x_train = x_train/255.\n",
    "x_test = x_test/255.\n",
    "\n",
    "#对标签进行独热编码\n",
    "y_train = tf.keras.utils.to_categorical(y_train_org,num_classes=10)\n",
    "y_test = tf.keras.utils.to_categorical(y_test_org,num_classes=10)\n",
    "\n",
    "#构建网络\n",
    "model = tf.keras.Sequential([tf.keras.layers.Conv2D(6,(5,5),padding=\"same\",activation=\"relu\",input_shape=(28,28,1)),\n",
    "                             tf.keras.layers.AveragePooling2D((2,2)),\n",
    "                             tf.keras.layers.Conv2D(16,(5,5),activation=\"relu\"),\n",
    "                             tf.keras.layers.AveragePooling2D((2,2)),\n",
    "                             tf.keras.layers.Conv2D(120,(5,5),activation=\"relu\"),\n",
    "                             tf.keras.layers.Flatten(),\n",
    "                             tf.keras.layers.Dense(84,activation=\"relu\"),\n",
    "                             tf.keras.layers.Dropout(0.8),\n",
    "                             tf.keras.layers.Dense(10,activation=\"softmax\")])\n",
    "\n",
    "model.compile(optimizer=\"adam\",loss=\"categorical_crossentropy\",metrics=[\"accuracy\"])\n",
    "\n",
    "model.summary()\n",
    "\n",
    "model.fit(x_train,y_train,epochs=10)\n",
    "\n",
    "test_loss = model.evaluate(x_test,y_test)\n",
    "\n",
    "def predict(path):\n",
    "    img = cv2.imread(path,cv2.IMREAD_UNCHANGED)\n",
    "    img_grey = cv2.cvtColor(img,cv2.COLOR_RGB2GRAY)\n",
    "    new_img = cv2.resize(img_grey,(28,28))\n",
    "    cv2.imshow('digit',new_img)\n",
    "    cv2.waitKey(0)\n",
    "    cv2.destroyAllWindows()\n",
    "    prediction = model.predict(new_img.reshape(1,28,28,1))\n",
    "    classes = tf.argmax(prediction[0]).numpy()\n",
    "    print(classes)"
   ]
  }
 ],
 "metadata": {
  "kernelspec": {
   "display_name": "Python 3",
   "language": "python",
   "name": "python3"
  },
  "language_info": {
   "codemirror_mode": {
    "name": "ipython",
    "version": 3
   },
   "file_extension": ".py",
   "mimetype": "text/x-python",
   "name": "python",
   "nbconvert_exporter": "python",
   "pygments_lexer": "ipython3",
   "version": "3.8.5"
  }
 },
 "nbformat": 4,
 "nbformat_minor": 4
}
